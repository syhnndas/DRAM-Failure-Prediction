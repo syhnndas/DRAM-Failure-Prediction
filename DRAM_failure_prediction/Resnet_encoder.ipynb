{
 "cells": [
  {
   "cell_type": "code",
   "execution_count": 1,
   "id": "74f566eb-4f2c-4c5c-b148-4e47fc16f96e",
   "metadata": {
    "tags": []
   },
   "outputs": [],
   "source": [
    "## 导入包\n",
    "import numpy as np\n",
    "import torch\n",
    "import torch.nn as nn\n",
    "from torchinfo import summary\n",
    "from torch.utils.data import TensorDataset, DataLoader\n",
    "from sklearn.metrics import confusion_matrix, ConfusionMatrixDisplay, precision_score, recall_score, f1_score\n",
    "import matplotlib.pyplot as plt\n",
    "from imblearn.under_sampling import RandomUnderSampler # 多数样本下采样\n"
   ]
  },
  {
   "cell_type": "code",
   "execution_count": 2,
   "id": "e3b1dc7d-019a-4129-be8d-85dba3eb1e12",
   "metadata": {
    "tags": []
   },
   "outputs": [],
   "source": [
    "# 加载数据\n",
    "data = np.load(\"./data_processed/data_norm.npy\")\n",
    "labels = np.load(\"./data_processed/labels.npy\")  # 2139个负样本1，其余全是正样本0"
   ]
  },
  {
   "cell_type": "code",
   "execution_count": 3,
   "id": "f07561b6-b066-4bd5-beac-a76e711a8f59",
   "metadata": {
    "tags": []
   },
   "outputs": [],
   "source": [
    "# ## 降采样1 随机抽取\n",
    "# data2 = data.reshape(30502, -1)\n",
    "# # 降采样策略\n",
    "# rus = RandomUnderSampler(sampling_strategy = {0: 2139})  # 将正常样本降采样到2139个\n",
    "\n",
    "# data_resample, labels_resample = rus.fit_resample(data2, labels)\n",
    "\n",
    "# data_resample = data_resample.reshape(-1, 16, 32, 16) # 恢复原来形状\n",
    "# print([data_resample.shape, labels_resample.shape])\n"
   ]
  },
  {
   "cell_type": "code",
   "execution_count": 4,
   "id": "ecaf2bb6-0636-430f-9998-11a9b4e36e8c",
   "metadata": {
    "tags": []
   },
   "outputs": [],
   "source": [
    "# 降采样1 手动抽取\n",
    "nor_id = np.where(labels == 0)[0]\n",
    "nor_id = nor_id[0:2139]\n",
    "dram_id = np.where(labels == 1)[0]"
   ]
  },
  {
   "cell_type": "code",
   "execution_count": 5,
   "id": "6053e343-2ea2-4d7c-ab31-f3cf0b0861f0",
   "metadata": {
    "tags": []
   },
   "outputs": [],
   "source": [
    "data_nor = data[nor_id,:,:,:]\n",
    "data_dram = data[dram_id,:,:,:]\n",
    "\n",
    "data_resample = np.append(data_nor, data_dram, axis = 0)\n",
    "labels_resample = np.append(labels[nor_id], labels[dram_id], axis = 0)\n"
   ]
  },
  {
   "cell_type": "code",
   "execution_count": 6,
   "id": "dbfdde41-e05b-4b63-a3b0-8392bf700e45",
   "metadata": {
    "tags": []
   },
   "outputs": [],
   "source": [
    "# 残差块\n",
    "class ResidualBlock(nn.Module):\n",
    "    def __init__(self, in_channels, out_channels, stride=1): # 指定输入通道，输出通道\n",
    "        super(ResidualBlock, self).__init__()\n",
    "        self.conv1 = nn.Conv2d(in_channels, out_channels, kernel_size=3, stride=stride, padding=1)\n",
    "        self.bn1 = nn.BatchNorm2d(out_channels)\n",
    "        self.relu = nn.ReLU(inplace=True)\n",
    "        self.conv2 = nn.Conv2d(out_channels, out_channels, kernel_size=3, stride=1, padding=1)\n",
    "        self.bn2 = nn.BatchNorm2d(out_channels)\n",
    "\n",
    "        self.shortcut = nn.Sequential()\n",
    "        if stride != 1 or in_channels != out_channels:\n",
    "            self.shortcut = nn.Sequential(\n",
    "                nn.Conv2d(in_channels, out_channels, kernel_size=1, stride=stride),\n",
    "                nn.BatchNorm2d(out_channels)\n",
    "            )\n",
    "            \n",
    "    def forward(self, x):\n",
    "        out = self.relu(self.bn1(self.conv1(x)))\n",
    "        out = self.bn2(self.conv2(out))\n",
    "        out += self.shortcut(x)\n",
    "        out = self.relu(out)\n",
    "        return out"
   ]
  },
  {
   "cell_type": "code",
   "execution_count": 14,
   "id": "b54d49a1-b18b-44bb-b8f6-a33af33ea1c0",
   "metadata": {
    "tags": []
   },
   "outputs": [],
   "source": [
    "# 输入是 16x32x16\n",
    "class ResNet_Encoder(nn.Module):\n",
    "    def __init__(self, num_classes = 2):\n",
    "        super(ResNet_Encoder, self).__init__()\n",
    "        self.conv1 = nn.Conv2d(16, 4, kernel_size=3, stride=1, padding=1) # 输入为16个通道\n",
    "        self.bn1 = nn.BatchNorm2d(4)\n",
    "        self.relu = nn.ReLU(inplace = True)\n",
    "        self.layer1 = self._make_layer(4, 8, 2, stride=2) # 输入通道、输出通道、块数\n",
    "        self.layer2 = self._make_layer(8, 16, 2, stride=1)\n",
    "        # self.layer3 = self._make_layer(32, 64, 2, stride=1)\n",
    "        \n",
    "        self.transformer_encoder = nn.TransformerEncoder(\n",
    "            nn.TransformerEncoderLayer(d_model=16, nhead=8), # 两个参数分别是输入样本的维度(32)和Encoder头的数量(头的数量必须能被维度整除)\n",
    "            num_layers= 4, # 层数，即最终的Encoder由4个EncoderLayer组成\n",
    "        ) # 最终transformer_encoder的输入形式是(序列长度，批大小，维度)，输出也还是(序列长度，批大小，维度)，大小都不变\n",
    "        \n",
    "        self.fc1 = nn.Linear(16*128, 16)\n",
    "        self.fc2 = nn.Linear(16, 2)\n",
    "\n",
    "    def _make_layer(self, in_channels, out_channels, blocks, stride=1):\n",
    "        layers = []\n",
    "        layers.append(ResidualBlock(in_channels, out_channels, stride))\n",
    "        for _ in range(1, blocks):\n",
    "            layers.append(ResidualBlock(out_channels, out_channels))\n",
    "        return nn.Sequential(*layers)\n",
    "\n",
    "    def forward(self, x):\n",
    "        # 经过残差块\n",
    "        x = self.conv1(x)\n",
    "        x = self.bn1(x)\n",
    "        x = self.relu(x)\n",
    "        x = self.layer1(x)\n",
    "        x = self.layer2(x)\n",
    "        x = torch.flatten(x, 2) # 把特征图拉平,通道留下,[1,32,32] [批大小,维度(通道数),序列长度]\n",
    "        \n",
    "        # 经过TransformerEncoder\n",
    "        x = x.permute(2, 0, 1) # 更改为[序列长度,批大小,维度]\n",
    "        x = self.transformer_encoder(x)\n",
    "        x = x.permute(1, 2, 0) # 更改为[批大小,维度,序列长度]\n",
    "        \n",
    "        # 全连接分类\n",
    "        x = torch.flatten(x, 1)\n",
    "        x = self.fc1(x)\n",
    "        x = self.fc2(x)\n",
    "        return x"
   ]
  },
  {
   "cell_type": "code",
   "execution_count": 21,
   "id": "a7bd9c8e-8d6c-4353-91f6-bd3fc10d458b",
   "metadata": {
    "tags": []
   },
   "outputs": [],
   "source": [
    "# 检查是否有可用的 GPU\n",
    "device = torch.device('cuda' if torch.cuda.is_available() else 'cpu')\n",
    "\n",
    "model = ResNet_Encoder().to(device) # 实例化"
   ]
  },
  {
   "cell_type": "code",
   "execution_count": 16,
   "id": "b1019d8c-f062-4c60-bede-03cc447c20fa",
   "metadata": {
    "tags": []
   },
   "outputs": [
    {
     "data": {
      "text/plain": [
       "===============================================================================================\n",
       "Layer (type:depth-idx)                        Output Shape              Param #\n",
       "===============================================================================================\n",
       "ResNet_Encoder                                [1, 2]                    --\n",
       "├─Conv2d: 1-1                                 [1, 4, 32, 16]            580\n",
       "├─BatchNorm2d: 1-2                            [1, 4, 32, 16]            8\n",
       "├─ReLU: 1-3                                   [1, 4, 32, 16]            --\n",
       "├─Sequential: 1-4                             [1, 8, 16, 8]             --\n",
       "│    └─ResidualBlock: 2-1                     [1, 8, 16, 8]             --\n",
       "│    │    └─Conv2d: 3-1                       [1, 8, 16, 8]             296\n",
       "│    │    └─BatchNorm2d: 3-2                  [1, 8, 16, 8]             16\n",
       "│    │    └─ReLU: 3-3                         [1, 8, 16, 8]             --\n",
       "│    │    └─Conv2d: 3-4                       [1, 8, 16, 8]             584\n",
       "│    │    └─BatchNorm2d: 3-5                  [1, 8, 16, 8]             16\n",
       "│    │    └─Sequential: 3-6                   [1, 8, 16, 8]             56\n",
       "│    │    └─ReLU: 3-7                         [1, 8, 16, 8]             --\n",
       "│    └─ResidualBlock: 2-2                     [1, 8, 16, 8]             --\n",
       "│    │    └─Conv2d: 3-8                       [1, 8, 16, 8]             584\n",
       "│    │    └─BatchNorm2d: 3-9                  [1, 8, 16, 8]             16\n",
       "│    │    └─ReLU: 3-10                        [1, 8, 16, 8]             --\n",
       "│    │    └─Conv2d: 3-11                      [1, 8, 16, 8]             584\n",
       "│    │    └─BatchNorm2d: 3-12                 [1, 8, 16, 8]             16\n",
       "│    │    └─Sequential: 3-13                  [1, 8, 16, 8]             --\n",
       "│    │    └─ReLU: 3-14                        [1, 8, 16, 8]             --\n",
       "├─Sequential: 1-5                             [1, 16, 16, 8]            --\n",
       "│    └─ResidualBlock: 2-3                     [1, 16, 16, 8]            --\n",
       "│    │    └─Conv2d: 3-15                      [1, 16, 16, 8]            1,168\n",
       "│    │    └─BatchNorm2d: 3-16                 [1, 16, 16, 8]            32\n",
       "│    │    └─ReLU: 3-17                        [1, 16, 16, 8]            --\n",
       "│    │    └─Conv2d: 3-18                      [1, 16, 16, 8]            2,320\n",
       "│    │    └─BatchNorm2d: 3-19                 [1, 16, 16, 8]            32\n",
       "│    │    └─Sequential: 3-20                  [1, 16, 16, 8]            176\n",
       "│    │    └─ReLU: 3-21                        [1, 16, 16, 8]            --\n",
       "│    └─ResidualBlock: 2-4                     [1, 16, 16, 8]            --\n",
       "│    │    └─Conv2d: 3-22                      [1, 16, 16, 8]            2,320\n",
       "│    │    └─BatchNorm2d: 3-23                 [1, 16, 16, 8]            32\n",
       "│    │    └─ReLU: 3-24                        [1, 16, 16, 8]            --\n",
       "│    │    └─Conv2d: 3-25                      [1, 16, 16, 8]            2,320\n",
       "│    │    └─BatchNorm2d: 3-26                 [1, 16, 16, 8]            32\n",
       "│    │    └─Sequential: 3-27                  [1, 16, 16, 8]            --\n",
       "│    │    └─ReLU: 3-28                        [1, 16, 16, 8]            --\n",
       "├─TransformerEncoder: 1-6                     [128, 1, 16]              --\n",
       "│    └─ModuleList: 2-5                        --                        --\n",
       "│    │    └─TransformerEncoderLayer: 3-29     [128, 1, 16]              68,752\n",
       "│    │    └─TransformerEncoderLayer: 3-30     [128, 1, 16]              68,752\n",
       "│    │    └─TransformerEncoderLayer: 3-31     [128, 1, 16]              68,752\n",
       "│    │    └─TransformerEncoderLayer: 3-32     [128, 1, 16]              68,752\n",
       "├─Linear: 1-7                                 [1, 16]                   32,784\n",
       "├─Linear: 1-8                                 [1, 2]                    34\n",
       "===============================================================================================\n",
       "Total params: 319,014\n",
       "Trainable params: 319,014\n",
       "Non-trainable params: 0\n",
       "Total mult-adds (M): 36.30\n",
       "===============================================================================================\n",
       "Input size (MB): 0.03\n",
       "Forward/backward pass size (MB): 8.86\n",
       "Params size (MB): 1.26\n",
       "Estimated Total Size (MB): 10.16\n",
       "==============================================================================================="
      ]
     },
     "execution_count": 16,
     "metadata": {},
     "output_type": "execute_result"
    }
   ],
   "source": [
    "summary(model, input_size=(1,16,32,16)) # 可视化网络结构"
   ]
  },
  {
   "cell_type": "code",
   "execution_count": 17,
   "id": "4448f54e-6454-4579-9194-75ed0a6e42d4",
   "metadata": {
    "tags": []
   },
   "outputs": [],
   "source": [
    "# 将data和labels转换为 PyTorch 张量\n",
    "data_tensor = torch.tensor(data_resample, dtype = torch.float32)\n",
    "labels_tensor = torch.tensor(labels_resample, dtype = torch.long)\n",
    "# 添加通道维度\n",
    "# data_tensor = data_tensor.unsqueeze(1)  # 变为(num, 1, 32, 16)\n",
    "\n",
    "# 创建 TensorDataset\n",
    "dataset = TensorDataset(data_tensor, labels_tensor)"
   ]
  },
  {
   "cell_type": "code",
   "execution_count": 18,
   "id": "50577f52-efdc-4767-a800-4a3deb3f3db7",
   "metadata": {
    "tags": []
   },
   "outputs": [],
   "source": [
    "# 划分训练集和测试集\n",
    "train_size = int(0.8 * len(dataset))\n",
    "test_size = len(dataset) - train_size\n",
    "train_dataset, test_dataset = torch.utils.data.random_split(dataset, [train_size, test_size])\n",
    "\n",
    "# 创建 DataLoader\n",
    "train_loader = DataLoader(train_dataset, batch_size = 32, shuffle = True)\n",
    "# test_loader = DataLoader(test_dataset, batch_size = 16, shuffle = False)\n",
    "test_loader = DataLoader(test_dataset, batch_size = test_size, shuffle = False)"
   ]
  },
  {
   "cell_type": "code",
   "execution_count": 24,
   "id": "2bb4619f-2991-4d3c-8b6e-cc18a327a1be",
   "metadata": {
    "tags": []
   },
   "outputs": [],
   "source": [
    "## 训练模型\n",
    "criterion = nn.CrossEntropyLoss() # 损失函数\n",
    "optimizer = torch.optim.Adam(model.parameters(), lr=0.001)"
   ]
  },
  {
   "cell_type": "code",
   "execution_count": 25,
   "id": "a2ec0cd6-199e-4e5b-acc6-7960e935353d",
   "metadata": {
    "tags": []
   },
   "outputs": [
    {
     "name": "stdout",
     "output_type": "stream",
     "text": [
      "Epoch [1/35]\n",
      "Train Loss: 0.6888, Train Accuracy: 52.86%\n",
      "Test Accuracy: 58.06%\n",
      "Epoch [6/35]\n",
      "Train Loss: 0.6500, Train Accuracy: 63.79%\n",
      "Test Accuracy: 61.45%\n",
      "Epoch [11/35]\n",
      "Train Loss: 0.6509, Train Accuracy: 62.30%\n",
      "Test Accuracy: 55.26%\n",
      "Epoch [16/35]\n",
      "Train Loss: 0.6189, Train Accuracy: 67.94%\n",
      "Test Accuracy: 65.89%\n",
      "Epoch [21/35]\n",
      "Train Loss: 0.6021, Train Accuracy: 68.85%\n",
      "Test Accuracy: 63.08%\n",
      "Epoch [26/35]\n",
      "Train Loss: 0.5904, Train Accuracy: 69.40%\n",
      "Test Accuracy: 67.06%\n",
      "Epoch [31/35]\n",
      "Train Loss: 0.5830, Train Accuracy: 69.99%\n",
      "Test Accuracy: 67.87%\n",
      "Epoch [35/35]\n",
      "Train Loss: 0.5765, Train Accuracy: 70.05%\n",
      "Test Accuracy: 67.17%\n"
     ]
    }
   ],
   "source": [
    "# 训练模型\n",
    "num_epochs = 35\n",
    "for epoch in range(num_epochs):\n",
    "    model.train()\n",
    "    running_loss = 0.0\n",
    "    correct = 0\n",
    "    total = 0\n",
    "\n",
    "    for x_train, y_train in train_loader:\n",
    "        x_train, y_train = x_train.to(device), y_train.to(device)\n",
    "        optimizer.zero_grad()\n",
    "        outputs = model(x_train)\n",
    "        loss = criterion(outputs, y_train)\n",
    "        loss.backward()\n",
    "        optimizer.step()\n",
    "        \n",
    "        # 统计训练集的损失\n",
    "        running_loss += loss.item() * x_train.size(0)\n",
    "        \n",
    "        # 统计训练集的准确率\n",
    "        _, predicted = torch.max(outputs, 1)\n",
    "        correct += (predicted == y_train).sum().item()\n",
    "\n",
    "    # 计算每个 epoch 的训练损失和准确率\n",
    "    epoch_loss = running_loss / train_size\n",
    "    epoch_accuracy = 100 * correct / train_size\n",
    "    \n",
    "    if epoch % 5 == 0 or epoch == num_epochs-1 :\n",
    "        print(f'Epoch [{epoch+1}/{num_epochs}]')\n",
    "        print(f'Train Loss: {epoch_loss:.4f}, Train Accuracy: {epoch_accuracy:.2f}%')\n",
    "    \n",
    "        ##------------ 每轮进行一次测试-----------\n",
    "        model.eval()\n",
    "        test_correct = 0\n",
    "        test_total = 0\n",
    "        with torch.no_grad():\n",
    "            for x_test, y_test in test_loader:\n",
    "                x_test, y_test = x_test.to(device), y_test.to(device)\n",
    "                outputs = model(x_test)\n",
    "                _, y_pred = torch.max(outputs, 1)\n",
    "                test_correct += (y_pred == y_test).sum().item()\n",
    "\n",
    "        test_accuracy = 100 * test_correct / test_size\n",
    "        print(f'Test Accuracy: {test_accuracy:.2f}%')\n",
    "        "
   ]
  },
  {
   "cell_type": "code",
   "execution_count": 26,
   "id": "61979a69-638b-4b3e-bad5-6ef45a107dd3",
   "metadata": {
    "tags": []
   },
   "outputs": [
    {
     "name": "stdout",
     "output_type": "stream",
     "text": [
      "Test Accuracy: 67.17%\n"
     ]
    }
   ],
   "source": [
    "# 测试模型\n",
    "model.eval()\n",
    "test_correct = 0\n",
    "test_total = 0\n",
    "with torch.no_grad():\n",
    "    for x_test, y_test in test_loader:\n",
    "        x_test, y_test = x_test.to(device), y_test.to(device)\n",
    "        outputs = model(x_test)\n",
    "        _, y_pred = torch.max(outputs, 1)\n",
    "        test_correct += (y_pred == y_test).sum().item()\n",
    "\n",
    "test_accuracy = 100 * test_correct / test_size\n",
    "print(f'Test Accuracy: {test_accuracy:.2f}%')\n"
   ]
  },
  {
   "cell_type": "code",
   "execution_count": 27,
   "id": "a30f27cd-a159-4142-8792-e4cbe0799e2f",
   "metadata": {
    "tags": []
   },
   "outputs": [
    {
     "data": {
      "image/png": "[encoded data removed]",
      "text/plain": [
       "<Figure size 640x480 with 2 Axes>"
      ]
     },
     "metadata": {},
     "output_type": "display_data"
    },
    {
     "name": "stdout",
     "output_type": "stream",
     "text": [
      "['pre:', 0.6831168831168831, 'recall:', 0.6232227488151659]\n"
     ]
    }
   ],
   "source": [
    "y_test, y_pred = y_test.cpu(), y_pred.cpu()\n",
    "cm = confusion_matrix(y_test, y_pred)\n",
    "\n",
    "# 显示混淆矩阵\n",
    "disp = ConfusionMatrixDisplay(confusion_matrix = cm)\n",
    "disp.plot(cmap = plt.cm.Blues)\n",
    "plt.show()\n",
    "## 计算Recall、pre\n",
    "precision = precision_score(y_test, y_pred, pos_label = 1) # 指定阳性样本（正样本）\n",
    "recall = recall_score(y_test, y_pred, pos_label = 1)\n",
    "print([f\"pre:\", precision, f\"recall:\", recall])\n"
   ]
  },
  {
   "cell_type": "code",
   "execution_count": null,
   "id": "14fd9504-9f35-44c4-a63a-d6361f351abf",
   "metadata": {},
   "outputs": [],
   "source": []
  },
  {
   "cell_type": "code",
   "execution_count": null,
   "id": "56d505ed-02cc-4790-9f3d-a18177ec6bde",
   "metadata": {},
   "outputs": [],
   "source": []
  },
  {
   "cell_type": "code",
   "execution_count": null,
   "id": "1cacdb28-9d31-46f3-a05b-9a7e880f7bc0",
   "metadata": {},
   "outputs": [],
   "source": []
  },
  {
   "cell_type": "code",
   "execution_count": null,
   "id": "b292358e-67c6-48c8-b3e1-69ad17acb239",
   "metadata": {},
   "outputs": [],
   "source": []
  },
  {
   "cell_type": "code",
   "execution_count": null,
   "id": "6b94d877-897b-4f5f-a839-ffd931deae24",
   "metadata": {},
   "outputs": [],
   "source": []
  },
  {
   "cell_type": "code",
   "execution_count": null,
   "id": "1987e20b-80bb-4047-b9e7-014c7a547e87",
   "metadata": {},
   "outputs": [],
   "source": []
  }
 ],
 "metadata": {
  "kernelspec": {
   "display_name": "dram-py310",
   "language": "python",
   "name": "dram-py310"
  },
  "language_info": {
   "codemirror_mode": {
    "name": "ipython",
    "version": 3
   },
   "file_extension": ".py",
   "mimetype": "text/x-python",
   "name": "python",
   "nbconvert_exporter": "python",
   "pygments_lexer": "ipython3",
   "version": "3.10.12"
  }
 },
 "nbformat": 4,
 "nbformat_minor": 5
}
