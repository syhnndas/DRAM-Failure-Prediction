{
 "cells": [
  {
   "cell_type": "code",
   "execution_count": 3,
   "id": "a4371102-47bc-4720-9663-c29381362031",
   "metadata": {
    "tags": []
   },
   "outputs": [],
   "source": [
    "import pandas as pd \n",
    "import numpy as np\n",
    "from tqdm import tqdm\n",
    "import ctypes\n",
    "import multiprocessing\n",
    "from multiprocessing import Process, Manager, cpu_count"
   ]
  },
  {
   "cell_type": "code",
   "execution_count": 32,
   "id": "9b34cd9d-fca4-487d-b846-b17372a8f838",
   "metadata": {
    "tags": []
   },
   "outputs": [
    {
     "name": "stdout",
     "output_type": "stream",
     "text": [
      "/home/anichikage/workspace/liulei/failure_prediction2\n"
     ]
    }
   ],
   "source": [
    "## 读取原始csv\n",
    "data_raw = pd.read_csv(\"/home/anichikage/workspace/dram/dram-failure-prediction/data/raw/ali/mcelog.csv\")\n"
   ]
  },
  {
   "cell_type": "code",
   "execution_count": 45,
   "id": "13cfe9e1-cdd5-4c5b-adfd-74711a29893b",
   "metadata": {
    "tags": []
   },
   "outputs": [
    {
     "name": "stdout",
     "output_type": "stream",
     "text": [
      "                   sid  memoryid  rankid  bankid     row  col  error_type  \\\n",
      "0             Server_1        10       1      13    3334  808           2   \n",
      "1             Server_1        10       1      13    3334  808           2   \n",
      "2             Server_1        10       1      13    3334  808           2   \n",
      "3             Server_1        10       1      13    3334  808           2   \n",
      "4             Server_1        10       1      13    3334  808           2   \n",
      "...                ...       ...     ...     ...     ...  ...         ...   \n",
      "75214687  Server_30500        16       0       8   51199  576           2   \n",
      "75214688  Server_30501         0       0      12  109213  592           2   \n",
      "75214689  Server_30502        20       1       7  120731  624           2   \n",
      "75214690  Server_30502        20       1       7  120731  624           2   \n",
      "75214691  Server_30502        20       1       7  120731  624           2   \n",
      "\n",
      "                   error_time  \n",
      "0         0001-06-14 06:40:59  \n",
      "1         0001-06-19 04:07:39  \n",
      "2         0001-06-26 00:32:58  \n",
      "3         0001-07-06 18:24:57  \n",
      "4         0001-07-07 17:54:17  \n",
      "...                       ...  \n",
      "75214687  0001-06-25 03:26:31  \n",
      "75214688  0001-08-15 15:19:32  \n",
      "75214689  0001-08-29 10:33:57  \n",
      "75214690  0001-08-30 10:20:12  \n",
      "75214691  0001-08-31 10:06:27  \n",
      "\n",
      "[75214692 rows x 8 columns]\n"
     ]
    }
   ],
   "source": [
    "print(data_raw)"
   ]
  },
  {
   "cell_type": "code",
   "execution_count": 4,
   "id": "34282c6f-08de-450f-9a96-25583c5360ae",
   "metadata": {
    "tags": []
   },
   "outputs": [
    {
     "name": "stdout",
     "output_type": "stream",
     "text": [
      "30502\n"
     ]
    }
   ],
   "source": [
    "grouped = data_raw.groupby('sid') # 按sid将Excel分组\n",
    "print(len(grouped))"
   ]
  },
  {
   "cell_type": "code",
   "execution_count": 94,
   "id": "d786d332-860c-4222-9486-56564f399de1",
   "metadata": {},
   "outputs": [
    {
     "name": "stdout",
     "output_type": "stream",
     "text": [
      "           sid  memoryid  rankid  bankid     row   col  error_type  \\\n",
      "5     Server_2         3       1       1   25338  1016           1   \n",
      "6     Server_2         3       1       1   17033  1016           1   \n",
      "7     Server_2         3       1       1   29573  1016           1   \n",
      "8     Server_2         3       1       1   29575  1016           1   \n",
      "9     Server_2         3       1       1   29576  1016           1   \n",
      "...        ...       ...     ...     ...     ...   ...         ...   \n",
      "5517  Server_2         8       0       7   68884    32           2   \n",
      "5518  Server_2         8       0       7   68884  1016           2   \n",
      "5519  Server_2        20       1       3   39915   640           2   \n",
      "5520  Server_2        20       1       3  105451   912           2   \n",
      "5521  Server_2        20       1       3   39915   424           2   \n",
      "\n",
      "               error_time  \n",
      "5     0001-01-17 09:56:21  \n",
      "6     0001-01-17 14:05:26  \n",
      "7     0001-01-17 19:25:33  \n",
      "8     0001-01-17 19:33:45  \n",
      "9     0001-01-17 20:51:17  \n",
      "...                   ...  \n",
      "5517  0001-06-23 20:57:05  \n",
      "5518  0001-06-23 20:57:06  \n",
      "5519  0001-07-02 10:18:37  \n",
      "5520  0001-07-14 15:55:14  \n",
      "5521  0001-07-15 03:39:54  \n",
      "\n",
      "[5517 rows x 8 columns]\n"
     ]
    }
   ],
   "source": [
    "## 获取第一个分组\n",
    "group_one = grouped.get_group(\"Server_2\")\n",
    "print(group_one)"
   ]
  },
  {
   "cell_type": "code",
   "execution_count": 57,
   "id": "397b4738-a6e8-4414-961d-51771cbb3b83",
   "metadata": {},
   "outputs": [
    {
     "name": "stdout",
     "output_type": "stream",
     "text": [
      "[16, 131072, 1017]\n"
     ]
    }
   ],
   "source": [
    "# 计算最大的 row和col数值\n",
    "max_bank = max(data_raw[\"bankid\"]) + 1 # 16 \n",
    "max_row = max(data_raw[\"row\"]) + 1 # 131072\n",
    "max_col = max(data_raw[\"col\"]) + 1 # 1017\n",
    "print([max_bank, max_row, max_col]);"
   ]
  },
  {
   "cell_type": "code",
   "execution_count": 60,
   "id": "71a1a91c-f229-4208-b402-cada736c8abd",
   "metadata": {
    "tags": []
   },
   "outputs": [],
   "source": [
    "# 计算每个小块的行数和列数 \n",
    "rows_per_block = int(np.ceil(max_row / 32))\n",
    "cols_per_block = int(np.ceil(max_col / 16))"
   ]
  },
  {
   "cell_type": "code",
   "execution_count": 95,
   "id": "5e121871-89d0-455b-bf47-543472c8da03",
   "metadata": {
    "tags": []
   },
   "outputs": [],
   "source": [
    "matrix_one = np.zeros((max_bank, max_row, max_col))\n",
    "for _ , pos in group_one.iterrows():\n",
    "    bank_index = pos[\"bankid\"]\n",
    "    row_index = pos[\"row\"]\n",
    "    col_index = pos[\"col\"]\n",
    "    \n",
    "    matrix_one[bank_index, row_index, col_index] += 1 # 16x131071x1017 的大矩阵\n",
    "    \n",
    "# 压缩成16x32x16尺寸   \n",
    "matrix_small = np.add.reduceat(\n",
    "np.add.reduceat(matrix_one, np.arange(0, matrix_one.shape[1], rows_per_block), axis=1),# 起点、终点、步长\n",
    "np.arange(0, matrix_one.shape[2], cols_per_block), axis=2)\n",
    "    "
   ]
  },
  {
   "cell_type": "code",
   "execution_count": 1,
   "id": "fb580e6b-b637-4b08-a62e-7d342071ad68",
   "metadata": {
    "tags": []
   },
   "outputs": [
    {
     "ename": "NameError",
     "evalue": "name 'matrix_small' is not defined",
     "output_type": "error",
     "traceback": [
      "\u001b[0;31m---------------------------------------------------------------------------\u001b[0m",
      "\u001b[0;31mNameError\u001b[0m                                 Traceback (most recent call last)",
      "Cell \u001b[0;32mIn[1], line 1\u001b[0m\n\u001b[0;32m----> 1\u001b[0m \u001b[38;5;28mprint\u001b[39m(\u001b[43mmatrix_small\u001b[49m[\u001b[38;5;241m7\u001b[39m,:,:])\n",
      "\u001b[0;31mNameError\u001b[0m: name 'matrix_small' is not defined"
     ]
    }
   ],
   "source": [
    "print(matrix_small[7,:,:])"
   ]
  },
  {
   "cell_type": "code",
   "execution_count": 8,
   "id": "82386098-e6e9-4887-8c37-1abb6419f9b2",
   "metadata": {},
   "outputs": [],
   "source": [
    "rows_per_block = 4096  # 行压缩块大小为 4096\n",
    "cols_per_block = 64    # 列压缩块大小为 64"
   ]
  },
  {
   "cell_type": "code",
   "execution_count": 9,
   "id": "1c4d4dda-f061-4b41-9d10-0875a3af01dc",
   "metadata": {},
   "outputs": [],
   "source": [
    "## 将row ,col存入一个大矩阵，再压缩成32x16\n",
    "def process_group(group_One):\n",
    "    matrix_one = np.zeros((max_row, max_col))\n",
    "    for _, pos in group_One.iterrows():\n",
    "        row_index = pos[\"row\"]\n",
    "        col_index = pos[\"col\"]\n",
    "        \n",
    "        matrix_one[row_index, col_index] += 1 # 131071x1017 的大矩阵\n",
    "        \n",
    "    # 压缩成32x16尺寸   \n",
    "    matrix_small = np.add.reduceat(\n",
    "    np.add.reduceat(matrix_one, np.arange(0, matrix_one.shape[0], rows_per_block), axis=0),# 起点、终点、步长\n",
    "    np.arange(0, matrix_one.shape[1], cols_per_block), axis=1)  \n",
    "        \n",
    "    return matrix_small"
   ]
  },
  {
   "cell_type": "code",
   "execution_count": null,
   "id": "9176a850-c5f0-47ee-92e4-d991751a0f6e",
   "metadata": {
    "tags": []
   },
   "outputs": [],
   "source": [
    "def process_group_2(grouped, idx, result_dict):\n",
    "    matrix_small = process_group(grouped.get_group(f\"Server_{idx+1}\"))\n",
    "    result_dict[idx] = matrix_small\n",
    "    \n",
    "    "
   ]
  },
  {
   "cell_type": "code",
   "execution_count": null,
   "id": "cd01b094-a892-4c98-927d-ebea4776ac90",
   "metadata": {
    "tags": []
   },
   "outputs": [],
   "source": [
    "group_one = grouped.get_group(\"Server_2\")\n",
    "print(process_group(group_one))"
   ]
  },
  {
   "cell_type": "code",
   "execution_count": null,
   "id": "f4b8475f-4356-4a1d-8ac9-d9cd5a5095f2",
   "metadata": {
    "tags": []
   },
   "outputs": [],
   "source": [
    "## 循环处理第1~30502个group\n",
    "matrix_all = np.empty((0,32,16))\n",
    "\n",
    "for i in tqdm(range(30502)):\n",
    "    group_one = grouped.get_group(f\"Server_{i+1}\")\n",
    "    small_matrix = process_group(group_one)\n",
    "    \n",
    "    matrix_all =  np.concatenate((matrix_all, small_matrix[np.newaxis, :, :]), axis = 0)"
   ]
  },
  {
   "cell_type": "code",
   "execution_count": 11,
   "id": "753843a3-0ad3-4405-8696-ee7adcaa12f5",
   "metadata": {
    "tags": []
   },
   "outputs": [],
   "source": [
    "# 创建共享数组 \n",
    "array_shape = (30502, 32, 16)  # 30502个数组，每个数组大小为32x16\n",
    "# 创建一个共享数组\n",
    "shared_arr_base = multiprocessing.Array(ctypes.c_double, int(np.prod(array_shape)))\n",
    "# 将共享数组转换为 NumPy \n",
    "shared_np_arr = np.frombuffer(shared_arr_base.get_obj(), dtype=np.float64).reshape(array_shape)\n"
   ]
  },
  {
   "cell_type": "code",
   "execution_count": 12,
   "id": "24cb4f59-8946-4066-8056-bde487db59bc",
   "metadata": {
    "tags": []
   },
   "outputs": [
    {
     "name": "stdout",
     "output_type": "stream",
     "text": [
      "0.0\n"
     ]
    }
   ],
   "source": [
    "print(sum(sum(shared_np_arr[2017,:,:])))"
   ]
  },
  {
   "cell_type": "code",
   "execution_count": 13,
   "id": "92fef0fe-2c15-4aac-8a68-1b4ef3e05060",
   "metadata": {
    "tags": []
   },
   "outputs": [],
   "source": [
    "def process_group_3(grouped, idx):\n",
    "    matrix_small = process_group(grouped.get_group(f\"Server_{idx+1}\"))\n",
    "    shared_np_arr[idx] = matrix_small\n",
    "    "
   ]
  },
  {
   "cell_type": "code",
   "execution_count": 14,
   "id": "ea0c6f10-43d6-4f96-83f1-fb35b7af9878",
   "metadata": {
    "tags": []
   },
   "outputs": [
    {
     "name": "stderr",
     "output_type": "stream",
     "text": [
      "100%|█████████████████████████████████████████████████████████████████████████████████████████████████████████████████████████████████| 1017/1017 [03:20<00:00,  5.06it/s]\n",
      "100%|█████████████████████████████████████████████████████████████████████████████████████████████████████████████████████████████████| 1017/1017 [03:20<00:00,  5.08it/s]\n",
      "100%|█████████████████████████████████████████████████████████████████████████████████████████████████████████████████████████████████| 1017/1017 [03:06<00:00,  5.45it/s]\n",
      "100%|█████████████████████████████████████████████████████████████████████████████████████████████████████████████████████████████████| 1017/1017 [03:11<00:00,  5.31it/s]\n",
      "100%|█████████████████████████████████████████████████████████████████████████████████████████████████████████████████████████████████| 1017/1017 [03:16<00:00,  5.18it/s]\n",
      "100%|█████████████████████████████████████████████████████████████████████████████████████████████████████████████████████████████████| 1017/1017 [03:15<00:00,  5.21it/s]\n",
      "100%|█████████████████████████████████████████████████████████████████████████████████████████████████████████████████████████████████| 1017/1017 [03:19<00:00,  5.11it/s]\n",
      "100%|█████████████████████████████████████████████████████████████████████████████████████████████████████████████████████████████████| 1017/1017 [03:13<00:00,  5.25it/s]\n",
      "100%|█████████████████████████████████████████████████████████████████████████████████████████████████████████████████████████████████| 1017/1017 [03:18<00:00,  5.11it/s]\n",
      "100%|█████████████████████████████████████████████████████████████████████████████████████████████████████████████████████████████████| 1017/1017 [03:17<00:00,  5.15it/s]\n",
      "100%|█████████████████████████████████████████████████████████████████████████████████████████████████████████████████████████████████| 1017/1017 [03:15<00:00,  5.21it/s]\n",
      "100%|█████████████████████████████████████████████████████████████████████████████████████████████████████████████████████████████████| 1017/1017 [03:20<00:00,  5.06it/s]\n",
      "100%|█████████████████████████████████████████████████████████████████████████████████████████████████████████████████████████████████| 1017/1017 [03:12<00:00,  5.28it/s]\n",
      "100%|█████████████████████████████████████████████████████████████████████████████████████████████████████████████████████████████████| 1017/1017 [03:22<00:00,  5.03it/s]\n",
      "100%|█████████████████████████████████████████████████████████████████████████████████████████████████████████████████████████████████| 1017/1017 [03:14<00:00,  5.22it/s]\n",
      "100%|█████████████████████████████████████████████████████████████████████████████████████████████████████████████████████████████████| 1017/1017 [03:15<00:00,  5.21it/s]\n",
      "100%|█████████████████████████████████████████████████████████████████████████████████████████████████████████████████████████████████| 1017/1017 [03:14<00:00,  5.23it/s]\n",
      "100%|█████████████████████████████████████████████████████████████████████████████████████████████████████████████████████████████████| 1017/1017 [03:12<00:00,  5.27it/s]\n",
      "100%|█████████████████████████████████████████████████████████████████████████████████████████████████████████████████████████████████| 1017/1017 [03:17<00:00,  5.15it/s]\n",
      "100%|█████████████████████████████████████████████████████████████████████████████████████████████████████████████████████████████████| 1017/1017 [03:16<00:00,  5.18it/s]\n",
      "100%|█████████████████████████████████████████████████████████████████████████████████████████████████████████████████████████████████| 1017/1017 [03:13<00:00,  5.27it/s]\n",
      "100%|█████████████████████████████████████████████████████████████████████████████████████████████████████████████████████████████████| 1017/1017 [03:11<00:00,  5.31it/s]\n",
      "100%|█████████████████████████████████████████████████████████████████████████████████████████████████████████████████████████████████| 1017/1017 [03:15<00:00,  5.21it/s]\n",
      "100%|█████████████████████████████████████████████████████████████████████████████████████████████████████████████████████████████████| 1017/1017 [03:14<00:00,  5.24it/s]\n",
      "100%|█████████████████████████████████████████████████████████████████████████████████████████████████████████████████████████████████| 1017/1017 [03:15<00:00,  5.19it/s]\n",
      "100%|█████████████████████████████████████████████████████████████████████████████████████████████████████████████████████████████████| 1017/1017 [03:14<00:00,  5.23it/s]\n",
      "100%|█████████████████████████████████████████████████████████████████████████████████████████████████████████████████████████████████| 1017/1017 [03:13<00:00,  5.25it/s]\n",
      "100%|█████████████████████████████████████████████████████████████████████████████████████████████████████████████████████████████████| 1017/1017 [03:12<00:00,  5.28it/s]\n",
      "100%|█████████████████████████████████████████████████████████████████████████████████████████████████████████████████████████████████| 1017/1017 [03:23<00:00,  5.00it/s]\n",
      " 99%|████████████████████████████████████████████████████████████████████████████████████████████████████████████████████████████████▏| 1011/1017 [03:18<00:01,  4.54it/s]Process Process-30503:\n",
      "Traceback (most recent call last):\n",
      "  File \"/home/anichikage/anaconda3/envs/dram-py310/lib/python3.10/multiprocessing/process.py\", line 314, in _bootstrap\n",
      "    self.run()\n",
      "  File \"/home/anichikage/anaconda3/envs/dram-py310/lib/python3.10/multiprocessing/process.py\", line 108, in run\n",
      "    self._target(*self._args, **self._kwargs)\n",
      "Process Process-30504:\n",
      "Traceback (most recent call last):\n",
      "100%|████████████████████████████████████████████████████████████████████████████████████████████████████████████████████████████████▎| 1012/1017 [03:19<00:01,  4.56it/s]  File \"/tmp/ipykernel_85345/388240735.py\", line 2, in process_group_3\n",
      "    matrix_small = process_group(grouped.get_group(f\"Server_{idx+1}\"))\n",
      "  File \"/home/anichikage/anaconda3/envs/dram-py310/lib/python3.10/multiprocessing/process.py\", line 314, in _bootstrap\n",
      "    self.run()\n",
      "  File \"/home/anichikage/anaconda3/envs/dram-py310/lib/python3.10/site-packages/pandas/core/groupby/groupby.py\", line 817, in get_group\n",
      "    raise KeyError(name)\n",
      "  File \"/home/anichikage/anaconda3/envs/dram-py310/lib/python3.10/multiprocessing/process.py\", line 108, in run\n",
      "    self._target(*self._args, **self._kwargs)\n",
      "KeyError: 'Server_30503'\n",
      "  File \"/tmp/ipykernel_85345/388240735.py\", line 2, in process_group_3\n",
      "    matrix_small = process_group(grouped.get_group(f\"Server_{idx+1}\"))\n",
      "  File \"/home/anichikage/anaconda3/envs/dram-py310/lib/python3.10/site-packages/pandas/core/groupby/groupby.py\", line 817, in get_group\n",
      "    raise KeyError(name)\n",
      "KeyError: 'Server_30504'\n",
      "Process Process-30505:\n",
      "100%|████████████████████████████████████████████████████████████████████████████████████████████████████████████████████████████████▍| 1013/1017 [03:19<00:00,  4.52it/s]Traceback (most recent call last):\n",
      "  File \"/home/anichikage/anaconda3/envs/dram-py310/lib/python3.10/multiprocessing/process.py\", line 314, in _bootstrap\n",
      "    self.run()\n",
      "  File \"/home/anichikage/anaconda3/envs/dram-py310/lib/python3.10/multiprocessing/process.py\", line 108, in run\n",
      "    self._target(*self._args, **self._kwargs)\n",
      "  File \"/tmp/ipykernel_85345/388240735.py\", line 2, in process_group_3\n",
      "    matrix_small = process_group(grouped.get_group(f\"Server_{idx+1}\"))\n",
      "  File \"/home/anichikage/anaconda3/envs/dram-py310/lib/python3.10/site-packages/pandas/core/groupby/groupby.py\", line 817, in get_group\n",
      "    raise KeyError(name)\n",
      "KeyError: 'Server_30505'\n",
      "Process Process-30506:\n",
      "Traceback (most recent call last):\n",
      "  File \"/home/anichikage/anaconda3/envs/dram-py310/lib/python3.10/multiprocessing/process.py\", line 314, in _bootstrap\n",
      "    self.run()\n",
      "  File \"/home/anichikage/anaconda3/envs/dram-py310/lib/python3.10/multiprocessing/process.py\", line 108, in run\n",
      "    self._target(*self._args, **self._kwargs)\n",
      "100%|████████████████████████████████████████████████████████████████████████████████████████████████████████████████████████████████▌| 1014/1017 [03:19<00:00,  4.52it/s]  File \"/tmp/ipykernel_85345/388240735.py\", line 2, in process_group_3\n",
      "    matrix_small = process_group(grouped.get_group(f\"Server_{idx+1}\"))\n",
      "  File \"/home/anichikage/anaconda3/envs/dram-py310/lib/python3.10/site-packages/pandas/core/groupby/groupby.py\", line 817, in get_group\n",
      "    raise KeyError(name)\n",
      "Process Process-30507:\n",
      "100%|████████████████████████████████████████████████████████████████████████████████████████████████████████████████████████████████▋| 1015/1017 [03:19<00:00,  4.54it/s]KeyError: 'Server_30506'\n",
      "  File \"/home/anichikage/anaconda3/envs/dram-py310/lib/python3.10/site-packages/pandas/core/groupby/groupby.py\", line 817, in get_group\n",
      "    raise KeyError(name)\n",
      "Traceback (most recent call last):\n",
      "  File \"/home/anichikage/anaconda3/envs/dram-py310/lib/python3.10/multiprocessing/process.py\", line 314, in _bootstrap\n",
      "    self.run()\n",
      "  File \"/home/anichikage/anaconda3/envs/dram-py310/lib/python3.10/multiprocessing/process.py\", line 108, in run\n",
      "    self._target(*self._args, **self._kwargs)\n",
      "  File \"/tmp/ipykernel_85345/388240735.py\", line 2, in process_group_3\n",
      "    matrix_small = process_group(grouped.get_group(f\"Server_{idx+1}\"))\n",
      "KeyError: 'Server_30507'\n",
      "100%|████████████████████████████████████████████████████████████████████████████████████████████████████████████████████████████████▊| 1016/1017 [03:19<00:00,  4.98it/s]Process Process-30508:\n",
      "Traceback (most recent call last):\n",
      "  File \"/home/anichikage/anaconda3/envs/dram-py310/lib/python3.10/multiprocessing/process.py\", line 314, in _bootstrap\n",
      "    self.run()\n",
      "  File \"/home/anichikage/anaconda3/envs/dram-py310/lib/python3.10/multiprocessing/process.py\", line 108, in run\n",
      "    self._target(*self._args, **self._kwargs)\n",
      "  File \"/tmp/ipykernel_85345/388240735.py\", line 2, in process_group_3\n",
      "    matrix_small = process_group(grouped.get_group(f\"Server_{idx+1}\"))\n",
      "  File \"/home/anichikage/anaconda3/envs/dram-py310/lib/python3.10/site-packages/pandas/core/groupby/groupby.py\", line 817, in get_group\n",
      "    raise KeyError(name)\n",
      "100%|█████████████████████████████████████████████████████████████████████████████████████████████████████████████████████████████████| 1017/1017 [03:20<00:00,  5.26it/s]KeyError: 'Server_30508'\n",
      "Process Process-30509:\n",
      "100%|█████████████████████████████████████████████████████████████████████████████████████████████████████████████████████████████████| 1017/1017 [03:20<00:00,  5.08it/s]Traceback (most recent call last):\n",
      "  File \"/home/anichikage/anaconda3/envs/dram-py310/lib/python3.10/multiprocessing/process.py\", line 314, in _bootstrap\n",
      "    self.run()\n",
      "  File \"/home/anichikage/anaconda3/envs/dram-py310/lib/python3.10/multiprocessing/process.py\", line 108, in run\n",
      "    self._target(*self._args, **self._kwargs)\n",
      "  File \"/tmp/ipykernel_85345/388240735.py\", line 2, in process_group_3\n",
      "    matrix_small = process_group(grouped.get_group(f\"Server_{idx+1}\"))\n",
      "  File \"/home/anichikage/anaconda3/envs/dram-py310/lib/python3.10/site-packages/pandas/core/groupby/groupby.py\", line 817, in get_group\n",
      "    raise KeyError(name)\n",
      "KeyError: 'Server_30509'\n",
      "Process Process-30510:\n",
      "Traceback (most recent call last):\n",
      "  File \"/home/anichikage/anaconda3/envs/dram-py310/lib/python3.10/multiprocessing/process.py\", line 314, in _bootstrap\n",
      "    self.run()\n",
      "  File \"/home/anichikage/anaconda3/envs/dram-py310/lib/python3.10/multiprocessing/process.py\", line 108, in run\n",
      "    self._target(*self._args, **self._kwargs)\n",
      "  File \"/tmp/ipykernel_85345/388240735.py\", line 2, in process_group_3\n",
      "    matrix_small = process_group(grouped.get_group(f\"Server_{idx+1}\"))\n",
      "  File \"/home/anichikage/anaconda3/envs/dram-py310/lib/python3.10/site-packages/pandas/core/groupby/groupby.py\", line 817, in get_group\n",
      "    raise KeyError(name)\n",
      "KeyError: 'Server_30510'\n",
      "\n"
     ]
    }
   ],
   "source": [
    "# 创建30个进程，每次处理1017个样本\n",
    "\n",
    "# 同一个进程，同时能打开的文件数是有限的，一般是一千多，当时每次都是运行到2013就报错了\n",
    "for idx in range(30): # tqdm是显示进度条\n",
    "    processes = []\n",
    "    for j in tqdm(range(idx*1017, (idx+1)*1017)): \n",
    "        p = Process(target = process_group_3, args = (grouped, j)) # 创建一个多进程任务\n",
    "        processes.append(p) # 将进程添加到列表\n",
    "        p.start() # 启动进程，开始执行process_one_agg(idx)\n",
    "    for p in processes:\n",
    "        p.join() # 等待进程完成"
   ]
  },
  {
   "cell_type": "code",
   "execution_count": 22,
   "id": "f53f7426-2bca-4189-9e06-001dfe644d60",
   "metadata": {
    "tags": []
   },
   "outputs": [],
   "source": [
    "data_mce = shared_np_arr\n"
   ]
  },
  {
   "cell_type": "code",
   "execution_count": 27,
   "id": "d8ecf5a4-3a8b-4d53-93e1-7cea1e1e8280",
   "metadata": {
    "tags": []
   },
   "outputs": [],
   "source": [
    "np.save('data_processed/data_mce.npy', data_mce) "
   ]
  },
  {
   "cell_type": "code",
   "execution_count": 28,
   "id": "2bc4bd25-d8e9-43bd-b03d-21f50059733f",
   "metadata": {},
   "outputs": [],
   "source": [
    "x = np.load('data_processed/data_mce.npy') # 保存npy"
   ]
  },
  {
   "cell_type": "code",
   "execution_count": null,
   "id": "b1f1e9ae-565b-45e3-a833-94b85f312953",
   "metadata": {
    "tags": []
   },
   "outputs": [],
   "source": [
    "print(x[30491,:,:])"
   ]
  },
  {
   "cell_type": "code",
   "execution_count": null,
   "id": "db099361-92df-45cc-96c4-87df08595a9c",
   "metadata": {
    "tags": []
   },
   "outputs": [],
   "source": []
  },
  {
   "cell_type": "code",
   "execution_count": 36,
   "id": "0a7a9384-73b4-4d10-9d98-a2b1e3d10b4e",
   "metadata": {},
   "outputs": [],
   "source": [
    "## 将数据进行放缩，归一化\n",
    "data_mce = np.load(\"data_processed/data_mce.npy\")"
   ]
  },
  {
   "cell_type": "code",
   "execution_count": 41,
   "id": "5516345b-4a3b-4ac4-a18e-404f2f1a467c",
   "metadata": {},
   "outputs": [],
   "source": [
    "data_norm = 2 / (1 + np.exp(-data_mce)) - 1"
   ]
  },
  {
   "cell_type": "code",
   "execution_count": null,
   "id": "53c67660-8037-4692-b219-dc29d296ad60",
   "metadata": {},
   "outputs": [],
   "source": [
    "print(data_norm[30000,:,:])"
   ]
  },
  {
   "cell_type": "code",
   "execution_count": 45,
   "id": "6065b812-20f4-49cf-8cfb-37d0eebb9a54",
   "metadata": {
    "tags": []
   },
   "outputs": [
    {
     "data": {
      "text/plain": [
       "0.9866142981514305"
      ]
     },
     "execution_count": 45,
     "metadata": {},
     "output_type": "execute_result"
    }
   ],
   "source": [
    "2/(1+np.exp(-5))-1"
   ]
  },
  {
   "cell_type": "code",
   "execution_count": 50,
   "id": "bb894dc0-94b2-47bf-97d5-cb8354458732",
   "metadata": {
    "tags": []
   },
   "outputs": [],
   "source": [
    "np.save('data_processed/data_norm.npy', data_norm)"
   ]
  },
  {
   "cell_type": "code",
   "execution_count": null,
   "id": "135e4cca-c06b-4fce-b104-da92a8437dea",
   "metadata": {},
   "outputs": [],
   "source": []
  },
  {
   "cell_type": "code",
   "execution_count": 4,
   "id": "ae621be5-00fb-4c0b-a742-0e99bee71d95",
   "metadata": {
    "tags": []
   },
   "outputs": [
    {
     "name": "stdout",
     "output_type": "stream",
     "text": [
      "                sid server_manufacturer DRAM_model  DIMM_number\n",
      "0          Server_1                  M2         C1           24\n",
      "1          Server_2                  M2         C1           24\n",
      "2          Server_3                  M2         A2           12\n",
      "3          Server_4                  M2         A2           12\n",
      "4          Server_5                  M2         A2           12\n",
      "...             ...                 ...        ...          ...\n",
      "30497  Server_30498                  M4         B1           12\n",
      "30498  Server_30499                  M4         B1           12\n",
      "30499  Server_30500                  M4         B1           12\n",
      "30500  Server_30501                  M4         A1           12\n",
      "30501  Server_30502                  M4         A1           12\n",
      "\n",
      "[30502 rows x 4 columns]\n"
     ]
    }
   ],
   "source": [
    "## 读取原始csv\n",
    "data_raw = pd.read_csv(\"/home/anichikage/workspace/dram/dram-failure-prediction/data/raw/ali/inventory.csv\")\n",
    "print(data_raw)"
   ]
  },
  {
   "cell_type": "code",
   "execution_count": null,
   "id": "bd357b74-68ed-4175-9a64-b9ad68909788",
   "metadata": {},
   "outputs": [],
   "source": []
  }
 ],
 "metadata": {
  "kernelspec": {
   "display_name": "dram-py310",
   "language": "python",
   "name": "dram-py310"
  },
  "language_info": {
   "codemirror_mode": {
    "name": "ipython",
    "version": 3
   },
   "file_extension": ".py",
   "mimetype": "text/x-python",
   "name": "python",
   "nbconvert_exporter": "python",
   "pygments_lexer": "ipython3",
   "version": "3.10.12"
  }
 },
 "nbformat": 4,
 "nbformat_minor": 5
}
