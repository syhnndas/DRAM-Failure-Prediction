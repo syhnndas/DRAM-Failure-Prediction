{
 "cells": [
  {
   "cell_type": "code",
   "execution_count": 59,
   "id": "f2397089-046a-4ef5-a929-0128bb6344a1",
   "metadata": {
    "tags": []
   },
   "outputs": [],
   "source": [
    "## 加载数据，用SVM\n",
    "## 导入包\n",
    "import numpy as np\n",
    "import pandas as pd\n",
    "from sklearn.metrics import confusion_matrix, ConfusionMatrixDisplay, precision_score, recall_score, f1_score,accuracy_score\n",
    "import matplotlib.pyplot as plt\n",
    "from sklearn.svm import SVC"
   ]
  },
  {
   "cell_type": "code",
   "execution_count": 107,
   "id": "c2b8498d-d1ec-4f7d-934e-36459a354ac0",
   "metadata": {
    "tags": []
   },
   "outputs": [],
   "source": [
    "df = pd.read_csv(\"Train_features.csv\")\n",
    "Train_features = np.array(df)\n",
    "\n",
    "df = pd.read_csv(\"Test_features.csv\")\n",
    "Test_features = np.array(df)\n",
    "\n",
    "df = pd.read_csv(\"train_label.csv\")\n",
    "train_label = np.array(df)\n",
    "\n",
    "df = pd.read_csv(\"test_label.csv\")\n",
    "test_label = np.array(df)"
   ]
  },
  {
   "cell_type": "code",
   "execution_count": 108,
   "id": "8f4aa125-d483-4936-bb8d-0077cbd81c26",
   "metadata": {
    "tags": []
   },
   "outputs": [
    {
     "name": "stderr",
     "output_type": "stream",
     "text": [
      "/home/anichikage/anaconda3/envs/dram-py310/lib/python3.10/site-packages/sklearn/utils/validation.py:1184: DataConversionWarning: A column-vector y was passed when a 1d array was expected. Please change the shape of y to (n_samples, ), for example using ravel().\n",
      "  y = column_or_1d(y, warn=True)\n"
     ]
    },
    {
     "name": "stdout",
     "output_type": "stream",
     "text": [
      "计算指标结果：\n",
      "Acc: 78.74% \n",
      "Pre: 79.04% \n",
      "Recall: 77.54% \n",
      "F1-score: 78.28% \n"
     ]
    },
    {
     "data": {
      "text/plain": [
       "<sklearn.metrics._plot.confusion_matrix.ConfusionMatrixDisplay at 0x7f400d9ffa30>"
      ]
     },
     "execution_count": 108,
     "metadata": {},
     "output_type": "execute_result"
    },
    {
     "data": {
      "image/png": "[encoded data removed]",
      "text/plain": [
       "<Figure size 640x480 with 2 Axes>"
      ]
     },
     "metadata": {},
     "output_type": "display_data"
    }
   ],
   "source": [
    "# 创建SVM模型\n",
    "svm_model = SVC(kernel='rbf')\n",
    "# CNN的输出为Tensor，需要转化为numpy输入给SVM\n",
    "# 训练SVM\n",
    "svm_model.fit(Train_features, train_label)\n",
    "\n",
    "# 测试\n",
    "predict_label = svm_model.predict(Test_features)\n",
    "\n",
    "# 计算分类结果\n",
    "acc = accuracy_score(test_label, predict_label) \n",
    "pre = precision_score(test_label, predict_label) \n",
    "recall = recall_score(test_label, predict_label) \n",
    "f1score = f1_score(test_label, predict_label) \n",
    "print('计算指标结果：\\nAcc: %.2f%% \\nPre: %.2f%% \\nRecall: %.2f%% \\nF1-score: %.2f%% ' % (100*acc,100*pre,100*recall,100*f1score))\n",
    "\n",
    "## 绘制混淆矩阵\n",
    "disp = ConfusionMatrixDisplay(confusion_matrix(test_label, predict_label))\n",
    "disp.plot()\n"
   ]
  },
  {
   "cell_type": "code",
   "execution_count": 62,
   "id": "4dac0367-e5f0-447c-b832-acf506d9fe4a",
   "metadata": {
    "tags": []
   },
   "outputs": [],
   "source": [
    "## 查看FN样本，实际阳预测为阴的 test_label是1，predict_label是0的\n",
    "test_label = test_label.reshape(-1)\n",
    "FN_id = np.where((test_label == 1) & (predict_label == 0))\n",
    "FN_id = np.array(FN_id)"
   ]
  },
  {
   "cell_type": "code",
   "execution_count": 63,
   "id": "7799ba46-bc61-48cd-b736-50c33972c2bb",
   "metadata": {
    "tags": []
   },
   "outputs": [],
   "source": [
    "# 测试集样本号\n",
    "test_server_id = np.load(\"test_server_id.npy\")\n",
    "FN_server_id = test_server_id[FN_id]\n"
   ]
  },
  {
   "cell_type": "code",
   "execution_count": 64,
   "id": "0051bd6c-d1dc-49fd-b3b6-b4af1ce716c3",
   "metadata": {
    "tags": []
   },
   "outputs": [],
   "source": [
    "FN_server_id = FN_server_id.reshape(-1)"
   ]
  },
  {
   "cell_type": "code",
   "execution_count": 65,
   "id": "df2b119c-eb60-4409-8bad-2a8ee29cecb5",
   "metadata": {},
   "outputs": [],
   "source": [
    "## 返回去对应FN_Server\n",
    "CE_data = np.load(\"./data_processed/data_mce3d.npy\")\n",
    "FN_server = CE_data[FN_server_id] # 95个FN_server\n"
   ]
  },
  {
   "cell_type": "code",
   "execution_count": 66,
   "id": "f969c9b7-0bca-4495-b614-c0d7cb5d5a01",
   "metadata": {},
   "outputs": [],
   "source": [
    "## 每个特征图都会有一个max_diff_row和max_diff_col\n",
    "## 现在是要计算16个特征图中，最大的max_diff_row和max_diff_col\n",
    "FN_server_one = FN_server[3]\n",
    "\n",
    "max_diff_row = []\n",
    "max_diff_col = []\n",
    "\n",
    "for i in range(16):\n",
    "    one = FN_server_one[i]\n",
    "\n",
    "    # 找到非零值的索引\n",
    "    non_zero_indices = np.argwhere(one != 0)\n",
    "\n",
    "    # 获取最大行数和最大列数\n",
    "    if non_zero_indices.size > 0:\n",
    "        max_row = non_zero_indices[:, 0].max()\n",
    "        min_row = non_zero_indices[:, 0].min()\n",
    "\n",
    "        max_col = non_zero_indices[:, 1].max()\n",
    "        min_col = non_zero_indices[:, 1].min()\n",
    "    else:\n",
    "        max_row, min_row, max_col, min_col = -1,-1,-1,-1  # 如果没有非零值\n",
    "\n",
    "#     print(\"最大行数:\", max_row)\n",
    "#     print(\"最小行数:\", min_row)\n",
    "\n",
    "#     print(\"最大列数:\", max_col)\n",
    "#     print(\"最小列数:\", min_col)\n",
    "    max_diff_row1 = max_row - min_row\n",
    "    max_diff_col1 = max_col - min_col\n",
    "    max_diff_row = np.append(max_diff_row,max_diff_row1)\n",
    "    max_diff_col = np.append(max_diff_col,max_diff_col1)\n",
    "\n",
    "print(max_diff_row.max())\n",
    "print(max_diff_col.max())"
   ]
  },
  {
   "cell_type": "code",
   "execution_count": 117,
   "id": "916ad87a-8143-483f-bd64-3f0fce52dbf1",
   "metadata": {},
   "outputs": [],
   "source": [
    "## 计算每个FN_server最大的行差和列差\n",
    "def cal_maxdiff(FN_server): # FN_server是16x32x16的特征图\n",
    "    max_diff_row = []\n",
    "    max_diff_col = []\n",
    "    # 依次计算每个特征图\n",
    "    for i in range(16):\n",
    "        one_channel = FN_server[i]\n",
    "        # 找到非零值的索引\n",
    "        non_zero_indices = np.argwhere(one_channel != 0)\n",
    "        # 获取最大行数和最大列数\n",
    "        if non_zero_indices.size > 0:\n",
    "            max_row = non_zero_indices[:, 0].max()\n",
    "            min_row = non_zero_indices[:, 0].min()\n",
    "\n",
    "            max_col = non_zero_indices[:, 1].max()\n",
    "            min_col = non_zero_indices[:, 1].min()\n",
    "        else:\n",
    "            max_row, min_row, max_col, min_col = -1,-1,-1,-1  # 如果没有非零值\n",
    "    #     print(\"最大行数:\", max_row)\n",
    "    #     print(\"最小行数:\", min_row)\n",
    "\n",
    "    #     print(\"最大列数:\", max_col)\n",
    "    #     print(\"最小列数:\", min_col)\n",
    "        max_diff_row1 = max_row - min_row\n",
    "        max_diff_col1 = max_col - min_col\n",
    "        max_diff_row = np.append(max_diff_row, max_diff_row1)\n",
    "        max_diff_col = np.append(max_diff_col, max_diff_col1)\n",
    "        \n",
    "    return max_diff_row.max(), max_diff_col.max()"
   ]
  },
  {
   "cell_type": "code",
   "execution_count": 73,
   "id": "0b0f001f-4a94-4cc4-9b8e-70743e35a2c9",
   "metadata": {},
   "outputs": [
    {
     "name": "stdout",
     "output_type": "stream",
     "text": [
      "0.0 15.0\n"
     ]
    }
   ],
   "source": [
    "max_diff_row, max_diff_col = cal_maxdiff(FN_server_one)\n",
    "print(max_diff_row, max_diff_col)"
   ]
  },
  {
   "cell_type": "code",
   "execution_count": 118,
   "id": "65d54f91-c9bb-46d9-a635-33ba9ef41802",
   "metadata": {},
   "outputs": [
    {
     "ename": "NameError",
     "evalue": "name 'data' is not defined",
     "output_type": "error",
     "traceback": [
      "\u001b[0;31m---------------------------------------------------------------------------\u001b[0m",
      "\u001b[0;31mNameError\u001b[0m                                 Traceback (most recent call last)",
      "Cell \u001b[0;32mIn[118], line 5\u001b[0m\n\u001b[1;32m      2\u001b[0m FN_col_list \u001b[38;5;241m=\u001b[39m []\n\u001b[1;32m      4\u001b[0m \u001b[38;5;28;01mfor\u001b[39;00m i \u001b[38;5;129;01min\u001b[39;00m \u001b[38;5;28mrange\u001b[39m(\u001b[38;5;28mlen\u001b[39m(train_server_id)):\n\u001b[0;32m----> 5\u001b[0m     FN_server_one \u001b[38;5;241m=\u001b[39m \u001b[43mdata\u001b[49m[train_server_id[i]]\n\u001b[1;32m      6\u001b[0m     max_diff_row, max_diff_col \u001b[38;5;241m=\u001b[39m cal_maxdiff(FN_server_one)\n\u001b[1;32m      7\u001b[0m     FN_row_list \u001b[38;5;241m=\u001b[39m np\u001b[38;5;241m.\u001b[39mappend(FN_row_list, max_diff_row)\n",
      "\u001b[0;31mNameError\u001b[0m: name 'data' is not defined"
     ]
    }
   ],
   "source": [
    "FN_row_list = []\n",
    "FN_col_list = []\n",
    "\n",
    "for i in range(len(FN_server_id)):\n",
    "    FN_server_one = FN_server[i]\n",
    "    max_diff_row, max_diff_col = cal_maxdiff(FN_server_one)\n",
    "    FN_row_list = np.append(FN_row_list, max_diff_row)\n",
    "    FN_col_list = np.append(FN_col_list, max_diff_col)\n"
   ]
  },
  {
   "cell_type": "code",
   "execution_count": 87,
   "id": "083e4e69-bb7b-4adf-a49f-eed8e71d6c37",
   "metadata": {
    "tags": []
   },
   "outputs": [
    {
     "name": "stdout",
     "output_type": "stream",
     "text": [
      "95个FN样本的最大行差：\n",
      " [ 0.  0.  2.  0.  0.  0.  0.  0.  0. 19.  0. 16.  2.  3.  0.  0.  0.  0.\n",
      "  0.  3.  0.  0. 16.  0. 16. 16. 16.  0. 16.  0.  0.  0.  0.  2.  1.  0.\n",
      "  0.  1.  0.  0. 18.  1. 16.  0.  0.  0.  0.  0.  0.  0.  8.  0.  0. 16.\n",
      "  0.  0.  0. 17.  0.  0.  0. 16.  0.  0.  0.  0.  0.  0.  0.  0.  0.  3.\n",
      "  0. 30.  0. 17.  0.  0. 16.  0. 16.  0.  1.  0.  0.  0.  0.  0.  0. 17.\n",
      "  0.  0.  2.  0. 16.]\n",
      "95个FN样本的最大列差：\n",
      " [ 0.  0.  0. 15.  0. 15.  0.  4.  5.  0.  0.  0.  0.  0. 15. 15.  2.  0.\n",
      " 14.  0.  0.  0. 15.  9. 13.  1.  0.  0. 15. 15.  2.  0.  0.  0.  0.  8.\n",
      " 15. 15.  8.  0.  0.  8.  0. 15. 15.  0.  0.  0.  0.  0. 15. 15.  6. 12.\n",
      "  0. 15. 14.  0.  5.  5.  7.  0.  0. 15.  1.  0.  0.  2. 15.  0.  0.  2.\n",
      "  0. 12.  0.  0. 15. 15.  0.  0.  0.  6.  0.  0.  2.  0. 15.  0.  0.  0.\n",
      "  0.  0. 15.  7.  0.]\n"
     ]
    }
   ],
   "source": [
    "print(\"95个FN样本的最大行差：\\n\",FN_row_list)\n",
    "print(\"95个FN样本的最大列差：\\n\",FN_col_list)"
   ]
  },
  {
   "cell_type": "code",
   "execution_count": 81,
   "id": "f0fc4cf1-7373-4bfc-8c30-8dd5b43e4420",
   "metadata": {},
   "outputs": [],
   "source": [
    "# theta = np.arange(0.1, 1.1, 0.1)\n",
    "# threshold = theta*32"
   ]
  },
  {
   "cell_type": "code",
   "execution_count": 89,
   "id": "f5869e4d-eb7a-4c50-80fd-7bf7ddbe0889",
   "metadata": {
    "tags": []
   },
   "outputs": [],
   "source": [
    "row_threshold = 16\n",
    "col_threshold = 8"
   ]
  },
  {
   "cell_type": "code",
   "execution_count": 97,
   "id": "0aab90c8-344d-455e-910d-a0d14c58f88b",
   "metadata": {
    "tags": []
   },
   "outputs": [
    {
     "name": "stdout",
     "output_type": "stream",
     "text": [
      "31\n"
     ]
    }
   ],
   "source": [
    "num = sum((FN_row_list > 16) | (FN_col_list > 8)) # 最大行差大于16，或者最大列差大于8\n",
    "print(num)"
   ]
  },
  {
   "cell_type": "code",
   "execution_count": 101,
   "id": "3195bc04-1dbb-4be8-9906-7d81024c86c9",
   "metadata": {
    "tags": []
   },
   "outputs": [],
   "source": [
    "index = np.where((FN_row_list > 16) | (FN_col_list > 8))"
   ]
  },
  {
   "cell_type": "code",
   "execution_count": 116,
   "id": "25175931-8f25-4be2-a05b-f316a0c8c46c",
   "metadata": {
    "tags": []
   },
   "outputs": [
    {
     "name": "stdout",
     "output_type": "stream",
     "text": [
      "计算指标结果：\n",
      "Acc: 82.36% \n",
      "Pre: 80.49% \n",
      "Recall: 84.87% \n",
      "F1-score: 78.28% \n"
     ]
    }
   ],
   "source": [
    "## 计算指标\n",
    "# 新的混淆矩阵\n",
    "# 346  87\n",
    "# 64  359\n",
    "\n",
    "acc = (346+359)/(346+359+87+64)\n",
    "recall = 359/(359+64)\n",
    "pre = 359/(359+87)\n",
    "f1 = 2*recall*pre/(recall+pre)\n",
    "print('计算指标结果：\\nAcc: %.2f%% \\nPre: %.2f%% \\nRecall: %.2f%% \\nF1-score: %.2f%% ' % (100*acc,100*pre,100*recall,100*f1score))\n"
   ]
  },
  {
   "cell_type": "code",
   "execution_count": null,
   "id": "f1c4dfc4-a57e-4f2e-9a11-b93e71e8c977",
   "metadata": {},
   "outputs": [],
   "source": []
  },
  {
   "cell_type": "code",
   "execution_count": null,
   "id": "c9ec81e1-2be4-4ab5-a20d-d6ea37e41202",
   "metadata": {},
   "outputs": [],
   "source": []
  },
  {
   "cell_type": "code",
   "execution_count": null,
   "id": "fe57d975-27aa-4f95-b81b-44ef0b035b61",
   "metadata": {},
   "outputs": [],
   "source": []
  },
  {
   "cell_type": "code",
   "execution_count": null,
   "id": "c2bbe274-f430-480f-a8b9-7b413244d8bd",
   "metadata": {},
   "outputs": [],
   "source": []
  }
 ],
 "metadata": {
  "kernelspec": {
   "display_name": "dram-py310",
   "language": "python",
   "name": "dram-py310"
  },
  "language_info": {
   "codemirror_mode": {
    "name": "ipython",
    "version": 3
   },
   "file_extension": ".py",
   "mimetype": "text/x-python",
   "name": "python",
   "nbconvert_exporter": "python",
   "pygments_lexer": "ipython3",
   "version": "3.10.12"
  }
 },
 "nbformat": 4,
 "nbformat_minor": 5
}
