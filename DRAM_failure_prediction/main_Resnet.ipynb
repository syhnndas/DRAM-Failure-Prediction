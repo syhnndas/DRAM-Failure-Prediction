{
 "cells": [
  {
   "cell_type": "code",
   "execution_count": 1,
   "id": "0e2ef3ef-3eef-443d-9c8b-29f562ddbbf8",
   "metadata": {
    "tags": []
   },
   "outputs": [],
   "source": [
    "## 导入包\n",
    "import numpy as np\n",
    "import torch\n",
    "import torch.nn as nn\n",
    "from torchinfo import summary\n",
    "from torch.utils.data import TensorDataset, DataLoader\n",
    "from sklearn.metrics import confusion_matrix, ConfusionMatrixDisplay, precision_score, recall_score, f1_score\n",
    "import matplotlib.pyplot as plt\n",
    "from imblearn.under_sampling import RandomUnderSampler # 多数样本下采样\n",
    "\n",
    "# import import_ipynb\n",
    "# from main_Resnet import ResidualBlock # 导入残差块"
   ]
  },
  {
   "cell_type": "code",
   "execution_count": 2,
   "id": "748e86b9-51a5-4d93-919d-23ed3cba5e90",
   "metadata": {
    "tags": []
   },
   "outputs": [],
   "source": [
    "# 加载数据\n",
    "data = np.load(\"./data_processed/data_norm.npy\")\n",
    "labels = np.load(\"./data_processed/labels.npy\")  # 2139个负样本1，其余全是正样本0"
   ]
  },
  {
   "cell_type": "code",
   "execution_count": 4,
   "id": "d0f4dd45-8dde-4abb-b43f-4b97b1a80f3d",
   "metadata": {
    "tags": []
   },
   "outputs": [
    {
     "name": "stdout",
     "output_type": "stream",
     "text": [
      "[(4278, 16, 32, 16), (4278,)]\n"
     ]
    }
   ],
   "source": [
    "## 降采样\n",
    "data2 = data.reshape(30502, -1)\n",
    "# 降采样策略\n",
    "rus = RandomUnderSampler(sampling_strategy = {0: 2139})  # 将正常样本降采样到2139个\n",
    "\n",
    "data_resample, labels_resample = rus.fit_resample(data2, labels)\n",
    "\n",
    "data_resample = data_resample.reshape(-1, 16, 32, 16)\n",
    "print([data_resample.shape, labels_resample.shape])\n",
    "\n",
    "# # 将数据恢复为原来的形状\n",
    "# X_normal_final = X_resampled[y_resampled == 0].reshape(-1, 32, 16)\n",
    "# X_anomaly_final = X_resampled[y_resampled == 1].reshape(-1, 32, 16)\n",
    "\n",
    "# # 检查最终数据的形状\n",
    "# print(X_normal_final.shape)\n",
    "# print(X_anomaly_final.shape)"
   ]
  },
  {
   "cell_type": "code",
   "execution_count": 5,
   "id": "8882ab81-c251-4039-8c90-b6ff10c8003c",
   "metadata": {
    "tags": []
   },
   "outputs": [],
   "source": [
    "# 残差块\n",
    "class ResidualBlock(nn.Module):\n",
    "    def __init__(self, in_channels, out_channels, stride=1): # 指定输入通道，输出通道\n",
    "        super(ResidualBlock, self).__init__()\n",
    "        self.conv1 = nn.Conv2d(in_channels, out_channels, kernel_size=3, stride=stride, padding=1)\n",
    "        self.bn1 = nn.BatchNorm2d(out_channels)\n",
    "        self.relu = nn.ReLU(inplace=True)\n",
    "        self.conv2 = nn.Conv2d(out_channels, out_channels, kernel_size=3, stride=1, padding=1)\n",
    "        self.bn2 = nn.BatchNorm2d(out_channels)\n",
    "\n",
    "        self.shortcut = nn.Sequential()\n",
    "        if stride != 1 or in_channels != out_channels:\n",
    "            self.shortcut = nn.Sequential(\n",
    "                nn.Conv2d(in_channels, out_channels, kernel_size=1, stride=stride),\n",
    "                nn.BatchNorm2d(out_channels)\n",
    "            )\n",
    "            \n",
    "    def forward(self, x):\n",
    "        out = self.relu(self.bn1(self.conv1(x)))\n",
    "        out = self.bn2(self.conv2(out))\n",
    "        out += self.shortcut(x)\n",
    "        out = self.relu(out)\n",
    "        return out\n",
    "\n",
    "# # 输出示例\n",
    "# x = torch.randn(64, 3, 32, 32)\n",
    "# block = ResidualBlock(3, 64)\n",
    "# out = block(x)\n",
    "# print(out.shape)  # 输出：torch.Size([64, 64, 32, 32])\n"
   ]
  },
  {
   "cell_type": "code",
   "execution_count": 38,
   "id": "cd1b3c6a-f96e-4b63-b347-bb3e8bb6b938",
   "metadata": {
    "tags": []
   },
   "outputs": [],
   "source": [
    "class ResNet_model(nn.Module):\n",
    "    def __init__(self, num_classes = 2):\n",
    "        super(ResNet_model, self).__init__()\n",
    "        self.conv1 = nn.Conv2d(16, 8, kernel_size=3, stride=1, padding=1) # 输入为16个通道\n",
    "        self.bn1 = nn.BatchNorm2d(8)\n",
    "        self.relu = nn.ReLU(inplace = True)\n",
    "        self.layer1 = self._make_layer(8, 16, 2, stride=2) # 输入通道、输出通道、块数\n",
    "        self.layer2 = self._make_layer(16, 32, 2, stride=2)\n",
    "        self.layer3 = self._make_layer(32, 32, 2, stride=2)\n",
    "        self.layer4 = self._make_layer(32, 64, 2, stride=2)\n",
    "        self.avgpool = nn.AdaptiveAvgPool2d((1, 1))\n",
    "        # self.fc1 = nn.Linear(64, 8)\n",
    "        self.fc2 = nn.Linear(64, 2)\n",
    "\n",
    "    def _make_layer(self, in_channels, out_channels, blocks, stride=1):\n",
    "        layers = []\n",
    "        layers.append(ResidualBlock(in_channels, out_channels, stride))\n",
    "        for _ in range(1, blocks):\n",
    "            layers.append(ResidualBlock(out_channels, out_channels))\n",
    "        return nn.Sequential(*layers)\n",
    "\n",
    "    def forward(self, x):\n",
    "        x = self.conv1(x)\n",
    "        x = self.bn1(x)\n",
    "        x = self.relu(x)\n",
    "        x = self.layer1(x)\n",
    "        x = self.layer2(x)\n",
    "        x = self.layer3(x)\n",
    "        x = self.layer4(x) # 4层layer，每个layer有两个残差块\n",
    "        x = self.avgpool(x)\n",
    "        x = torch.flatten(x, 1)\n",
    "        \n",
    "        # x = self.fc1(x)\n",
    "        x = self.fc2(x)\n",
    "        return x"
   ]
  },
  {
   "cell_type": "code",
   "execution_count": 39,
   "id": "09e64385-445a-4951-9de4-0ddb317d488e",
   "metadata": {
    "tags": []
   },
   "outputs": [],
   "source": [
    "# 检查是否有可用的 GPU\n",
    "device = torch.device('cuda' if torch.cuda.is_available() else 'cpu')\n",
    "\n",
    "model = ResNet_model().to(device) # 实例化"
   ]
  },
  {
   "cell_type": "code",
   "execution_count": 40,
   "id": "54bd19e5-1bb3-4216-afdb-9ffa82188c94",
   "metadata": {
    "tags": []
   },
   "outputs": [
    {
     "data": {
      "text/plain": [
       "==========================================================================================\n",
       "Layer (type:depth-idx)                   Output Shape              Param #\n",
       "==========================================================================================\n",
       "ResNet_model                             [1, 2]                    --\n",
       "├─Conv2d: 1-1                            [1, 8, 32, 16]            1,160\n",
       "├─BatchNorm2d: 1-2                       [1, 8, 32, 16]            16\n",
       "├─ReLU: 1-3                              [1, 8, 32, 16]            --\n",
       "├─Sequential: 1-4                        [1, 16, 16, 8]            --\n",
       "│    └─ResidualBlock: 2-1                [1, 16, 16, 8]            --\n",
       "│    │    └─Conv2d: 3-1                  [1, 16, 16, 8]            1,168\n",
       "│    │    └─BatchNorm2d: 3-2             [1, 16, 16, 8]            32\n",
       "│    │    └─ReLU: 3-3                    [1, 16, 16, 8]            --\n",
       "│    │    └─Conv2d: 3-4                  [1, 16, 16, 8]            2,320\n",
       "│    │    └─BatchNorm2d: 3-5             [1, 16, 16, 8]            32\n",
       "│    │    └─Sequential: 3-6              [1, 16, 16, 8]            176\n",
       "│    │    └─ReLU: 3-7                    [1, 16, 16, 8]            --\n",
       "│    └─ResidualBlock: 2-2                [1, 16, 16, 8]            --\n",
       "│    │    └─Conv2d: 3-8                  [1, 16, 16, 8]            2,320\n",
       "│    │    └─BatchNorm2d: 3-9             [1, 16, 16, 8]            32\n",
       "│    │    └─ReLU: 3-10                   [1, 16, 16, 8]            --\n",
       "│    │    └─Conv2d: 3-11                 [1, 16, 16, 8]            2,320\n",
       "│    │    └─BatchNorm2d: 3-12            [1, 16, 16, 8]            32\n",
       "│    │    └─Sequential: 3-13             [1, 16, 16, 8]            --\n",
       "│    │    └─ReLU: 3-14                   [1, 16, 16, 8]            --\n",
       "├─Sequential: 1-5                        [1, 32, 8, 4]             --\n",
       "│    └─ResidualBlock: 2-3                [1, 32, 8, 4]             --\n",
       "│    │    └─Conv2d: 3-15                 [1, 32, 8, 4]             4,640\n",
       "│    │    └─BatchNorm2d: 3-16            [1, 32, 8, 4]             64\n",
       "│    │    └─ReLU: 3-17                   [1, 32, 8, 4]             --\n",
       "│    │    └─Conv2d: 3-18                 [1, 32, 8, 4]             9,248\n",
       "│    │    └─BatchNorm2d: 3-19            [1, 32, 8, 4]             64\n",
       "│    │    └─Sequential: 3-20             [1, 32, 8, 4]             608\n",
       "│    │    └─ReLU: 3-21                   [1, 32, 8, 4]             --\n",
       "│    └─ResidualBlock: 2-4                [1, 32, 8, 4]             --\n",
       "│    │    └─Conv2d: 3-22                 [1, 32, 8, 4]             9,248\n",
       "│    │    └─BatchNorm2d: 3-23            [1, 32, 8, 4]             64\n",
       "│    │    └─ReLU: 3-24                   [1, 32, 8, 4]             --\n",
       "│    │    └─Conv2d: 3-25                 [1, 32, 8, 4]             9,248\n",
       "│    │    └─BatchNorm2d: 3-26            [1, 32, 8, 4]             64\n",
       "│    │    └─Sequential: 3-27             [1, 32, 8, 4]             --\n",
       "│    │    └─ReLU: 3-28                   [1, 32, 8, 4]             --\n",
       "├─Sequential: 1-6                        [1, 32, 4, 2]             --\n",
       "│    └─ResidualBlock: 2-5                [1, 32, 4, 2]             --\n",
       "│    │    └─Conv2d: 3-29                 [1, 32, 4, 2]             9,248\n",
       "│    │    └─BatchNorm2d: 3-30            [1, 32, 4, 2]             64\n",
       "│    │    └─ReLU: 3-31                   [1, 32, 4, 2]             --\n",
       "│    │    └─Conv2d: 3-32                 [1, 32, 4, 2]             9,248\n",
       "│    │    └─BatchNorm2d: 3-33            [1, 32, 4, 2]             64\n",
       "│    │    └─Sequential: 3-34             [1, 32, 4, 2]             1,120\n",
       "│    │    └─ReLU: 3-35                   [1, 32, 4, 2]             --\n",
       "│    └─ResidualBlock: 2-6                [1, 32, 4, 2]             --\n",
       "│    │    └─Conv2d: 3-36                 [1, 32, 4, 2]             9,248\n",
       "│    │    └─BatchNorm2d: 3-37            [1, 32, 4, 2]             64\n",
       "│    │    └─ReLU: 3-38                   [1, 32, 4, 2]             --\n",
       "│    │    └─Conv2d: 3-39                 [1, 32, 4, 2]             9,248\n",
       "│    │    └─BatchNorm2d: 3-40            [1, 32, 4, 2]             64\n",
       "│    │    └─Sequential: 3-41             [1, 32, 4, 2]             --\n",
       "│    │    └─ReLU: 3-42                   [1, 32, 4, 2]             --\n",
       "├─Sequential: 1-7                        [1, 64, 2, 1]             --\n",
       "│    └─ResidualBlock: 2-7                [1, 64, 2, 1]             --\n",
       "│    │    └─Conv2d: 3-43                 [1, 64, 2, 1]             18,496\n",
       "│    │    └─BatchNorm2d: 3-44            [1, 64, 2, 1]             128\n",
       "│    │    └─ReLU: 3-45                   [1, 64, 2, 1]             --\n",
       "│    │    └─Conv2d: 3-46                 [1, 64, 2, 1]             36,928\n",
       "│    │    └─BatchNorm2d: 3-47            [1, 64, 2, 1]             128\n",
       "│    │    └─Sequential: 3-48             [1, 64, 2, 1]             2,240\n",
       "│    │    └─ReLU: 3-49                   [1, 64, 2, 1]             --\n",
       "│    └─ResidualBlock: 2-8                [1, 64, 2, 1]             --\n",
       "│    │    └─Conv2d: 3-50                 [1, 64, 2, 1]             36,928\n",
       "│    │    └─BatchNorm2d: 3-51            [1, 64, 2, 1]             128\n",
       "│    │    └─ReLU: 3-52                   [1, 64, 2, 1]             --\n",
       "│    │    └─Conv2d: 3-53                 [1, 64, 2, 1]             36,928\n",
       "│    │    └─BatchNorm2d: 3-54            [1, 64, 2, 1]             128\n",
       "│    │    └─Sequential: 3-55             [1, 64, 2, 1]             --\n",
       "│    │    └─ReLU: 3-56                   [1, 64, 2, 1]             --\n",
       "├─AdaptiveAvgPool2d: 1-8                 [1, 64, 1, 1]             --\n",
       "├─Linear: 1-9                            [1, 2]                    130\n",
       "==========================================================================================\n",
       "Total params: 213,386\n",
       "Trainable params: 213,386\n",
       "Non-trainable params: 0\n",
       "Total mult-adds (M): 3.28\n",
       "==========================================================================================\n",
       "Input size (MB): 0.03\n",
       "Forward/backward pass size (MB): 0.34\n",
       "Params size (MB): 0.85\n",
       "Estimated Total Size (MB): 1.23\n",
       "=========================================================================================="
      ]
     },
     "execution_count": 40,
     "metadata": {},
     "output_type": "execute_result"
    }
   ],
   "source": [
    "summary(model, input_size=(1,16,32,16)) # 可视化网络结构"
   ]
  },
  {
   "cell_type": "code",
   "execution_count": 41,
   "id": "ec67d1e6-d873-4b2d-932c-7c6bbba65254",
   "metadata": {
    "tags": []
   },
   "outputs": [],
   "source": [
    "# 将data和labels转换为 PyTorch 张量\n",
    "data_tensor = torch.tensor(data_resample, dtype = torch.float32)\n",
    "labels_tensor = torch.tensor(labels_resample, dtype = torch.long)\n",
    "# 添加通道维度\n",
    "# data_tensor = data_tensor.unsqueeze(1)  # 变为(num, 1, 32, 16)\n",
    "\n",
    "# 创建 TensorDataset\n",
    "dataset = TensorDataset(data_tensor, labels_tensor)"
   ]
  },
  {
   "cell_type": "code",
   "execution_count": 42,
   "id": "171690db-2f56-4fe4-a715-ebafec9aa3a4",
   "metadata": {
    "tags": []
   },
   "outputs": [],
   "source": [
    "# 划分训练集和测试集\n",
    "train_size = int(0.8 * len(dataset))\n",
    "test_size = len(dataset) - train_size\n",
    "train_dataset, test_dataset = torch.utils.data.random_split(dataset, [train_size, test_size])\n",
    "\n",
    "# 创建 DataLoader\n",
    "train_loader = DataLoader(train_dataset, batch_size = 32, shuffle = True)\n",
    "# test_loader = DataLoader(test_dataset, batch_size = 16, shuffle = False)\n",
    "test_loader = DataLoader(test_dataset, batch_size = test_size, shuffle = False)"
   ]
  },
  {
   "cell_type": "code",
   "execution_count": 43,
   "id": "eb32f33a-4e43-420e-9e3f-2564aa71f877",
   "metadata": {},
   "outputs": [],
   "source": [
    "## 训练模型\n",
    "criterion = nn.CrossEntropyLoss() # 损失函数\n",
    "optimizer = torch.optim.Adam(model.parameters(), lr=0.001)"
   ]
  },
  {
   "cell_type": "code",
   "execution_count": 44,
   "id": "6ea470c3-cc3b-4178-8399-c441cfbe7646",
   "metadata": {},
   "outputs": [
    {
     "name": "stdout",
     "output_type": "stream",
     "text": [
      "Epoch [1/30]\n",
      "Train Loss: 0.6637, Train Accuracy: 61.89%\n",
      "Test Accuracy: 59.23%\n",
      "Test Accuracy: 66.94%\n",
      "Test Accuracy: 65.42%\n",
      "Test Accuracy: 66.59%\n",
      "Test Accuracy: 63.32%\n",
      "Epoch [6/30]\n",
      "Train Loss: 0.4959, Train Accuracy: 75.48%\n",
      "Test Accuracy: 65.89%\n",
      "Test Accuracy: 66.12%\n",
      "Test Accuracy: 65.54%\n",
      "Test Accuracy: 63.90%\n",
      "Test Accuracy: 62.97%\n",
      "Epoch [11/30]\n",
      "Train Loss: 0.3602, Train Accuracy: 84.28%\n",
      "Test Accuracy: 64.14%\n",
      "Test Accuracy: 62.85%\n",
      "Test Accuracy: 62.50%\n",
      "Test Accuracy: 61.21%\n",
      "Test Accuracy: 64.95%\n",
      "Epoch [16/30]\n",
      "Train Loss: 0.2444, Train Accuracy: 89.66%\n",
      "Test Accuracy: 65.07%\n",
      "Test Accuracy: 64.37%\n",
      "Test Accuracy: 63.08%\n",
      "Test Accuracy: 60.51%\n",
      "Test Accuracy: 63.32%\n",
      "Epoch [21/30]\n",
      "Train Loss: 0.1873, Train Accuracy: 92.05%\n",
      "Test Accuracy: 63.67%\n",
      "Test Accuracy: 64.37%\n",
      "Test Accuracy: 64.37%\n",
      "Test Accuracy: 63.20%\n",
      "Test Accuracy: 62.15%\n",
      "Epoch [26/30]\n",
      "Train Loss: 0.1592, Train Accuracy: 93.98%\n",
      "Test Accuracy: 62.85%\n",
      "Test Accuracy: 64.49%\n",
      "Test Accuracy: 62.97%\n",
      "Test Accuracy: 62.97%\n",
      "Epoch [30/30]\n",
      "Train Loss: 0.1474, Train Accuracy: 94.54%\n",
      "Test Accuracy: 62.73%\n"
     ]
    }
   ],
   "source": [
    "# 训练模型\n",
    "num_epochs = 30\n",
    "for epoch in range(num_epochs):\n",
    "    model.train()\n",
    "    running_loss = 0.0\n",
    "    correct = 0\n",
    "    total = 0\n",
    "\n",
    "    for x_train, y_train in train_loader:\n",
    "        x_train, y_train = x_train.to(device), y_train.to(device)\n",
    "        optimizer.zero_grad()\n",
    "        outputs = model(x_train)\n",
    "        loss = criterion(outputs, y_train)\n",
    "        loss.backward()\n",
    "        optimizer.step()\n",
    "        \n",
    "        # 统计训练集的损失\n",
    "        running_loss += loss.item() * x_train.size(0)\n",
    "        \n",
    "        # 统计训练集的准确率\n",
    "        _, predicted = torch.max(outputs, 1)\n",
    "        correct += (predicted == y_train).sum().item()\n",
    "\n",
    "    # 计算每个 epoch 的训练损失和准确率\n",
    "    epoch_loss = running_loss / train_size\n",
    "    epoch_accuracy = 100 * correct / train_size\n",
    "    \n",
    "    if epoch % 5 == 0 or epoch == num_epochs-1 :\n",
    "        print(f'Epoch [{epoch+1}/{num_epochs}]')\n",
    "        print(f'Train Loss: {epoch_loss:.4f}, Train Accuracy: {epoch_accuracy:.2f}%')\n",
    "    \n",
    "    ##------------ 每轮进行一次测试-----------\n",
    "    model.eval()\n",
    "    test_correct = 0\n",
    "    test_total = 0\n",
    "    with torch.no_grad():\n",
    "        for x_test, y_test in test_loader:\n",
    "            x_test, y_test = x_test.to(device), y_test.to(device)\n",
    "            outputs = model(x_test)\n",
    "            _, y_pred = torch.max(outputs, 1)\n",
    "            test_correct += (y_pred == y_test).sum().item()\n",
    "\n",
    "    test_accuracy = 100 * test_correct / test_size\n",
    "    print(f'Test Accuracy: {test_accuracy:.2f}%')\n",
    "        "
   ]
  },
  {
   "cell_type": "code",
   "execution_count": 45,
   "id": "420ee2f4-aba2-4725-85ec-013059f2fd5a",
   "metadata": {},
   "outputs": [
    {
     "name": "stdout",
     "output_type": "stream",
     "text": [
      "Test Accuracy: 62.73%\n"
     ]
    }
   ],
   "source": [
    "# 测试模型\n",
    "model.eval()\n",
    "test_correct = 0\n",
    "test_total = 0\n",
    "with torch.no_grad():\n",
    "    for x_test, y_test in test_loader:\n",
    "        x_test, y_test = x_test.to(device), y_test.to(device)\n",
    "        outputs = model(x_test)\n",
    "        _, y_pred = torch.max(outputs, 1)\n",
    "        test_correct += (y_pred == y_test).sum().item()\n",
    "\n",
    "test_accuracy = 100 * test_correct / test_size\n",
    "print(f'Test Accuracy: {test_accuracy:.2f}%')\n"
   ]
  },
  {
   "cell_type": "code",
   "execution_count": 46,
   "id": "93b275cb-686e-4854-907b-a226bcad9e57",
   "metadata": {},
   "outputs": [
    {
     "data": {
      "image/png": "[encoded data removed]",
      "text/plain": [
       "<Figure size 640x480 with 2 Axes>"
      ]
     },
     "metadata": {},
     "output_type": "display_data"
    }
   ],
   "source": [
    "y_test, y_pred = y_test.cpu(), y_pred.cpu()\n",
    "cm = confusion_matrix(y_test, y_pred)\n",
    "\n",
    "# 显示混淆矩阵\n",
    "disp = ConfusionMatrixDisplay(confusion_matrix = cm)\n",
    "disp.plot(cmap = plt.cm.Blues)\n",
    "plt.show()"
   ]
  },
  {
   "cell_type": "code",
   "execution_count": 24,
   "id": "40807505-f838-463e-91dd-4413f419c529",
   "metadata": {},
   "outputs": [
    {
     "name": "stdout",
     "output_type": "stream",
     "text": [
      "['pre:', 0.6229116945107399, 'recall:', 0.6027713625866051]\n"
     ]
    }
   ],
   "source": [
    "## 计算Recall、pre\n",
    "precision = precision_score(y_test, y_pred, pos_label = 1) # 指定阳性样本（正样本）\n",
    "recall = recall_score(y_test, y_pred, pos_label = 1)\n",
    "print([f\"pre:\", precision, f\"recall:\", recall])\n"
   ]
  },
  {
   "cell_type": "code",
   "execution_count": null,
   "id": "f66143c8-5efd-493b-89a9-29616da1adc6",
   "metadata": {},
   "outputs": [],
   "source": []
  }
 ],
 "metadata": {
  "kernelspec": {
   "display_name": "dram-py310",
   "language": "python",
   "name": "dram-py310"
  },
  "language_info": {
   "codemirror_mode": {
    "name": "ipython",
    "version": 3
   },
   "file_extension": ".py",
   "mimetype": "text/x-python",
   "name": "python",
   "nbconvert_exporter": "python",
   "pygments_lexer": "ipython3",
   "version": "3.10.12"
  }
 },
 "nbformat": 4,
 "nbformat_minor": 5
}
